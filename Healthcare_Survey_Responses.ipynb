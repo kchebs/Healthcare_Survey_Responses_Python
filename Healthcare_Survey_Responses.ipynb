{
 "cells": [
  {
   "cell_type": "markdown",
   "metadata": {},
   "source": [
    "# Healthcare Survey Responses\n",
    "\n",
    "Tools to help healthcare providers (e.g., doctors, dentists,  chiropractors, therapists) manage their online reputations can be valueable. Thus, one key data initiative involves assessing the performance of these tools in order to help optimize our products and quantify the value they bring to providers. \n",
    "\n",
    "For example, one of our tools is an automated feedback survey sent to patients after their appointments. Practices use a “short” version of the survey during their first 6 months and then must switch to one of two “long” versions after that. The goals of these surveys are to generate 1) more online reviews for a practice and 2) higher ratings. \n",
    "\n",
    "The goal of this project is to analyze the effectiveness of each of the “long” versions and recommend which “long” version would be best suited to each practice and specifically, to determine the answer to the following questions:\n",
    "    - Do the “long” surveys result in significantly more reviews than the “short” surveys? Which “long” survey has a greater impact (v1 or v2)?\n",
    "    - What kinds of practices do best with “long” survey v1? Would you recommend “long” survey v2 to any specific kinds of practices?\n",
    "    - Do ratings change significantly with either “long” survey? How would you predict which practices will have success, defined as at least a 0.3 star increase in their “long” survey average monthly rating vs their “short” survey average monthly rating? \n",
    "    - Would you recommend replacing the “short” survey with either (or both) of the “long” surveys for any or all practices? Provide reasons to support your answer. If you do not have enough data to make a recommendation, what additional data would you need?"
   ]
  },
  {
   "cell_type": "markdown",
   "metadata": {},
   "source": [
    "### Introduction"
   ]
  },
  {
   "cell_type": "markdown",
   "metadata": {},
   "source": [
    "The following Jupyter Notebook analyzes a small subset of response data. The Jupyter Notebook format was chosen because it is a commonly used platform that combines graphs, text, and code. Thereby, allowing others to assess ability to analyze data using analytics, statistics, machine learning methods and to tell informative data stories with visualizations and the insights."
   ]
  },
  {
   "cell_type": "markdown",
   "metadata": {},
   "source": [
    "### Importing Packages and Data Sets"
   ]
  },
  {
   "cell_type": "code",
   "execution_count": 1,
   "metadata": {},
   "outputs": [],
   "source": [
    "import pandas as pd\n",
    "import numpy as np\n",
    "import matplotlib.pyplot as plt\n",
    "import warnings\n",
    "from scipy import stats\n",
    "import seaborn as sns\n",
    "from datetime import timedelta, datetime\n",
    "warnings.filterwarnings('ignore')"
   ]
  },
  {
   "cell_type": "code",
   "execution_count": 2,
   "metadata": {
    "scrolled": true
   },
   "outputs": [],
   "source": [
    "# Split Excel into two preferred CSV files\n",
    "reviews = pd.read_csv(\"reviews.csv\")"
   ]
  },
  {
   "cell_type": "markdown",
   "metadata": {},
   "source": [
    "### Previewing Data"
   ]
  },
  {
   "cell_type": "code",
   "execution_count": 3,
   "metadata": {
    "scrolled": false
   },
   "outputs": [
    {
     "data": {
      "text/html": [
       "<div>\n",
       "<style scoped>\n",
       "    .dataframe tbody tr th:only-of-type {\n",
       "        vertical-align: middle;\n",
       "    }\n",
       "\n",
       "    .dataframe tbody tr th {\n",
       "        vertical-align: top;\n",
       "    }\n",
       "\n",
       "    .dataframe thead th {\n",
       "        text-align: right;\n",
       "    }\n",
       "</style>\n",
       "<table border=\"1\" class=\"dataframe\">\n",
       "  <thead>\n",
       "    <tr style=\"text-align: right;\">\n",
       "      <th></th>\n",
       "      <th>review_id</th>\n",
       "      <th>review_date</th>\n",
       "      <th>rating</th>\n",
       "      <th>practice_id</th>\n",
       "      <th>n_providers</th>\n",
       "      <th>n_providers_surveys</th>\n",
       "      <th>short_start_date</th>\n",
       "      <th>long_start_date</th>\n",
       "      <th>version</th>\n",
       "      <th>city</th>\n",
       "      <th>state</th>\n",
       "      <th>zip</th>\n",
       "      <th>tech_type</th>\n",
       "      <th>specialty</th>\n",
       "    </tr>\n",
       "  </thead>\n",
       "  <tbody>\n",
       "    <tr>\n",
       "      <th>0</th>\n",
       "      <td>274252</td>\n",
       "      <td>2017-05-23</td>\n",
       "      <td>5.0</td>\n",
       "      <td>2</td>\n",
       "      <td>1</td>\n",
       "      <td>1</td>\n",
       "      <td>2017-04-13</td>\n",
       "      <td>2017-10-10</td>\n",
       "      <td>v1</td>\n",
       "      <td>Santa Monica</td>\n",
       "      <td>CA</td>\n",
       "      <td>90404</td>\n",
       "      <td>ATHEN</td>\n",
       "      <td>Obstetrician and Gynecologist</td>\n",
       "    </tr>\n",
       "    <tr>\n",
       "      <th>1</th>\n",
       "      <td>267767</td>\n",
       "      <td>2017-12-30</td>\n",
       "      <td>5.0</td>\n",
       "      <td>2</td>\n",
       "      <td>1</td>\n",
       "      <td>1</td>\n",
       "      <td>2017-04-13</td>\n",
       "      <td>2017-10-10</td>\n",
       "      <td>v1</td>\n",
       "      <td>Santa Monica</td>\n",
       "      <td>CA</td>\n",
       "      <td>90404</td>\n",
       "      <td>ATHEN</td>\n",
       "      <td>Obstetrician and Gynecologist</td>\n",
       "    </tr>\n",
       "    <tr>\n",
       "      <th>2</th>\n",
       "      <td>626201</td>\n",
       "      <td>2018-04-03</td>\n",
       "      <td>1.0</td>\n",
       "      <td>2</td>\n",
       "      <td>1</td>\n",
       "      <td>1</td>\n",
       "      <td>2017-04-13</td>\n",
       "      <td>2017-10-10</td>\n",
       "      <td>v1</td>\n",
       "      <td>Santa Monica</td>\n",
       "      <td>CA</td>\n",
       "      <td>90404</td>\n",
       "      <td>ATHEN</td>\n",
       "      <td>Obstetrician and Gynecologist</td>\n",
       "    </tr>\n",
       "    <tr>\n",
       "      <th>3</th>\n",
       "      <td>161319</td>\n",
       "      <td>2017-09-08</td>\n",
       "      <td>5.0</td>\n",
       "      <td>3</td>\n",
       "      <td>1</td>\n",
       "      <td>1</td>\n",
       "      <td>2017-09-03</td>\n",
       "      <td>2018-03-02</td>\n",
       "      <td>v2</td>\n",
       "      <td>Santa Monica</td>\n",
       "      <td>CA</td>\n",
       "      <td>90404</td>\n",
       "      <td>ADVAN</td>\n",
       "      <td>Obstetrician and Gynecologist</td>\n",
       "    </tr>\n",
       "    <tr>\n",
       "      <th>4</th>\n",
       "      <td>275147</td>\n",
       "      <td>2017-09-11</td>\n",
       "      <td>5.0</td>\n",
       "      <td>3</td>\n",
       "      <td>1</td>\n",
       "      <td>1</td>\n",
       "      <td>2017-09-03</td>\n",
       "      <td>2018-03-02</td>\n",
       "      <td>v2</td>\n",
       "      <td>Santa Monica</td>\n",
       "      <td>CA</td>\n",
       "      <td>90404</td>\n",
       "      <td>ADVAN</td>\n",
       "      <td>Obstetrician and Gynecologist</td>\n",
       "    </tr>\n",
       "  </tbody>\n",
       "</table>\n",
       "</div>"
      ],
      "text/plain": [
       "   review_id review_date  rating  practice_id  n_providers  \\\n",
       "0     274252  2017-05-23     5.0            2            1   \n",
       "1     267767  2017-12-30     5.0            2            1   \n",
       "2     626201  2018-04-03     1.0            2            1   \n",
       "3     161319  2017-09-08     5.0            3            1   \n",
       "4     275147  2017-09-11     5.0            3            1   \n",
       "\n",
       "   n_providers_surveys short_start_date long_start_date version          city  \\\n",
       "0                    1       2017-04-13      2017-10-10      v1  Santa Monica   \n",
       "1                    1       2017-04-13      2017-10-10      v1  Santa Monica   \n",
       "2                    1       2017-04-13      2017-10-10      v1  Santa Monica   \n",
       "3                    1       2017-09-03      2018-03-02      v2  Santa Monica   \n",
       "4                    1       2017-09-03      2018-03-02      v2  Santa Monica   \n",
       "\n",
       "  state    zip tech_type                      specialty  \n",
       "0    CA  90404     ATHEN  Obstetrician and Gynecologist  \n",
       "1    CA  90404     ATHEN  Obstetrician and Gynecologist  \n",
       "2    CA  90404     ATHEN  Obstetrician and Gynecologist  \n",
       "3    CA  90404     ADVAN  Obstetrician and Gynecologist  \n",
       "4    CA  90404     ADVAN  Obstetrician and Gynecologist  "
      ]
     },
     "execution_count": 3,
     "metadata": {},
     "output_type": "execute_result"
    }
   ],
   "source": [
    "# List of all Products\n",
    "reviews.head()"
   ]
  },
  {
   "cell_type": "code",
   "execution_count": 4,
   "metadata": {},
   "outputs": [
    {
     "name": "stdout",
     "output_type": "stream",
     "text": [
      "<class 'pandas.core.frame.DataFrame'>\n",
      "RangeIndex: 410413 entries, 0 to 410412\n",
      "Data columns (total 14 columns):\n",
      " #   Column               Non-Null Count   Dtype  \n",
      "---  ------               --------------   -----  \n",
      " 0   review_id            410413 non-null  int64  \n",
      " 1   review_date          410413 non-null  object \n",
      " 2   rating               410413 non-null  float64\n",
      " 3   practice_id          410413 non-null  int64  \n",
      " 4   n_providers          410413 non-null  int64  \n",
      " 5   n_providers_surveys  410413 non-null  int64  \n",
      " 6   short_start_date     410413 non-null  object \n",
      " 7   long_start_date      410413 non-null  object \n",
      " 8   version              410413 non-null  object \n",
      " 9   city                 410413 non-null  object \n",
      " 10  state                410413 non-null  object \n",
      " 11  zip                  410413 non-null  int64  \n",
      " 12  tech_type            407466 non-null  object \n",
      " 13  specialty            378959 non-null  object \n",
      "dtypes: float64(1), int64(5), object(8)\n",
      "memory usage: 43.8+ MB\n"
     ]
    }
   ],
   "source": [
    "reviews.info()"
   ]
  },
  {
   "cell_type": "markdown",
   "metadata": {},
   "source": [
    "Many columns are defined as objects, but some should be converted to dates and integers."
   ]
  },
  {
   "cell_type": "code",
   "execution_count": 5,
   "metadata": {},
   "outputs": [
    {
     "data": {
      "text/html": [
       "<div>\n",
       "<style scoped>\n",
       "    .dataframe tbody tr th:only-of-type {\n",
       "        vertical-align: middle;\n",
       "    }\n",
       "\n",
       "    .dataframe tbody tr th {\n",
       "        vertical-align: top;\n",
       "    }\n",
       "\n",
       "    .dataframe thead th {\n",
       "        text-align: right;\n",
       "    }\n",
       "</style>\n",
       "<table border=\"1\" class=\"dataframe\">\n",
       "  <thead>\n",
       "    <tr style=\"text-align: right;\">\n",
       "      <th></th>\n",
       "      <th>review_id</th>\n",
       "      <th>rating</th>\n",
       "      <th>practice_id</th>\n",
       "      <th>n_providers</th>\n",
       "      <th>n_providers_surveys</th>\n",
       "      <th>zip</th>\n",
       "    </tr>\n",
       "  </thead>\n",
       "  <tbody>\n",
       "    <tr>\n",
       "      <th>count</th>\n",
       "      <td>4.104130e+05</td>\n",
       "      <td>410413.000000</td>\n",
       "      <td>410413.000000</td>\n",
       "      <td>410413.000000</td>\n",
       "      <td>410413.000000</td>\n",
       "      <td>410413.000000</td>\n",
       "    </tr>\n",
       "    <tr>\n",
       "      <th>mean</th>\n",
       "      <td>1.143601e+06</td>\n",
       "      <td>3.567973</td>\n",
       "      <td>12097.962935</td>\n",
       "      <td>5.336044</td>\n",
       "      <td>4.238460</td>\n",
       "      <td>53547.366511</td>\n",
       "    </tr>\n",
       "    <tr>\n",
       "      <th>std</th>\n",
       "      <td>5.004602e+05</td>\n",
       "      <td>2.172081</td>\n",
       "      <td>1955.647520</td>\n",
       "      <td>6.909282</td>\n",
       "      <td>6.295056</td>\n",
       "      <td>31017.726713</td>\n",
       "    </tr>\n",
       "    <tr>\n",
       "      <th>min</th>\n",
       "      <td>9.847100e+04</td>\n",
       "      <td>0.000000</td>\n",
       "      <td>2.000000</td>\n",
       "      <td>1.000000</td>\n",
       "      <td>0.000000</td>\n",
       "      <td>1028.000000</td>\n",
       "    </tr>\n",
       "    <tr>\n",
       "      <th>25%</th>\n",
       "      <td>7.317630e+05</td>\n",
       "      <td>1.000000</td>\n",
       "      <td>10796.000000</td>\n",
       "      <td>1.000000</td>\n",
       "      <td>1.000000</td>\n",
       "      <td>23462.000000</td>\n",
       "    </tr>\n",
       "    <tr>\n",
       "      <th>50%</th>\n",
       "      <td>1.218286e+06</td>\n",
       "      <td>5.000000</td>\n",
       "      <td>12100.000000</td>\n",
       "      <td>2.000000</td>\n",
       "      <td>1.000000</td>\n",
       "      <td>60181.000000</td>\n",
       "    </tr>\n",
       "    <tr>\n",
       "      <th>75%</th>\n",
       "      <td>1.620049e+06</td>\n",
       "      <td>5.000000</td>\n",
       "      <td>13418.000000</td>\n",
       "      <td>6.000000</td>\n",
       "      <td>5.000000</td>\n",
       "      <td>78758.000000</td>\n",
       "    </tr>\n",
       "    <tr>\n",
       "      <th>max</th>\n",
       "      <td>1.847052e+06</td>\n",
       "      <td>5.000000</td>\n",
       "      <td>15923.000000</td>\n",
       "      <td>35.000000</td>\n",
       "      <td>33.000000</td>\n",
       "      <td>99701.000000</td>\n",
       "    </tr>\n",
       "  </tbody>\n",
       "</table>\n",
       "</div>"
      ],
      "text/plain": [
       "          review_id         rating    practice_id    n_providers  \\\n",
       "count  4.104130e+05  410413.000000  410413.000000  410413.000000   \n",
       "mean   1.143601e+06       3.567973   12097.962935       5.336044   \n",
       "std    5.004602e+05       2.172081    1955.647520       6.909282   \n",
       "min    9.847100e+04       0.000000       2.000000       1.000000   \n",
       "25%    7.317630e+05       1.000000   10796.000000       1.000000   \n",
       "50%    1.218286e+06       5.000000   12100.000000       2.000000   \n",
       "75%    1.620049e+06       5.000000   13418.000000       6.000000   \n",
       "max    1.847052e+06       5.000000   15923.000000      35.000000   \n",
       "\n",
       "       n_providers_surveys            zip  \n",
       "count        410413.000000  410413.000000  \n",
       "mean              4.238460   53547.366511  \n",
       "std               6.295056   31017.726713  \n",
       "min               0.000000    1028.000000  \n",
       "25%               1.000000   23462.000000  \n",
       "50%               1.000000   60181.000000  \n",
       "75%               5.000000   78758.000000  \n",
       "max              33.000000   99701.000000  "
      ]
     },
     "execution_count": 5,
     "metadata": {},
     "output_type": "execute_result"
    }
   ],
   "source": [
    "reviews.describe()"
   ]
  },
  {
   "cell_type": "markdown",
   "metadata": {},
   "source": [
    "### Data Cleaning and Manipulation"
   ]
  },
  {
   "cell_type": "code",
   "execution_count": 6,
   "metadata": {
    "scrolled": true
   },
   "outputs": [
    {
     "data": {
      "text/plain": [
       "array(['v1', 'v2'], dtype=object)"
      ]
     },
     "execution_count": 6,
     "metadata": {},
     "output_type": "execute_result"
    }
   ],
   "source": [
    "reviews['version'].unique()"
   ]
  },
  {
   "cell_type": "code",
   "execution_count": 7,
   "metadata": {},
   "outputs": [],
   "source": [
    "reviews['version'] = reviews['version'].replace(\"v1\", \"1\")\n",
    "reviews['version'] = reviews['version'].replace(\"v2\", \"2\")\n",
    "reviews['version'] = reviews['version'].astype('int64')"
   ]
  },
  {
   "cell_type": "code",
   "execution_count": 8,
   "metadata": {},
   "outputs": [],
   "source": [
    "# Correct 3017 year to 2017\n",
    "reviews['review_date'].loc[reviews['review_date'] == '3017-05-03'] = '2017-05-03'\n"
   ]
  },
  {
   "cell_type": "code",
   "execution_count": 9,
   "metadata": {},
   "outputs": [],
   "source": [
    "reviews['short_start_date'] = reviews['short_start_date'].astype('datetime64[ns]')\n",
    "reviews['long_start_date'] = reviews['long_start_date'].astype('datetime64[ns]')\n",
    "reviews['review_date'] = reviews['review_date'].astype('datetime64[ns]')"
   ]
  },
  {
   "cell_type": "markdown",
   "metadata": {},
   "source": [
    "Since version contains a long version even if the survey was a short version at the time; version_type will display actual type of survey that is being recorded."
   ]
  },
  {
   "cell_type": "code",
   "execution_count": 10,
   "metadata": {
    "scrolled": false
   },
   "outputs": [],
   "source": [
    "# 0 = short, 1 = long v1, 2 = long v2\n",
    "reviews['review_type'] = np.nan\n",
    "for i in range(len(reviews)):\n",
    "    if reviews['review_date'][i] < reviews['long_start_date'][i]:\n",
    "        reviews['review_type'][i] = 0\n",
    "    elif reviews['review_date'][i] >= reviews['long_start_date'][i] and reviews['version'][i] == 1:  \n",
    "        reviews['review_type'][i] = 1\n",
    "    elif reviews['review_date'][i] >= reviews['long_start_date'][i] and reviews['version'][i] == 2:\n",
    "        reviews['review_type'][i] = 2"
   ]
  },
  {
   "cell_type": "code",
   "execution_count": 11,
   "metadata": {},
   "outputs": [],
   "source": [
    "backup = reviews"
   ]
  },
  {
   "cell_type": "code",
   "execution_count": 12,
   "metadata": {},
   "outputs": [
    {
     "data": {
      "text/html": [
       "<div>\n",
       "<style scoped>\n",
       "    .dataframe tbody tr th:only-of-type {\n",
       "        vertical-align: middle;\n",
       "    }\n",
       "\n",
       "    .dataframe tbody tr th {\n",
       "        vertical-align: top;\n",
       "    }\n",
       "\n",
       "    .dataframe thead th {\n",
       "        text-align: right;\n",
       "    }\n",
       "</style>\n",
       "<table border=\"1\" class=\"dataframe\">\n",
       "  <thead>\n",
       "    <tr style=\"text-align: right;\">\n",
       "      <th></th>\n",
       "      <th>review_id</th>\n",
       "      <th>review_date</th>\n",
       "      <th>rating</th>\n",
       "      <th>practice_id</th>\n",
       "      <th>n_providers</th>\n",
       "      <th>n_providers_surveys</th>\n",
       "      <th>short_start_date</th>\n",
       "      <th>long_start_date</th>\n",
       "      <th>version</th>\n",
       "      <th>city</th>\n",
       "      <th>state</th>\n",
       "      <th>zip</th>\n",
       "      <th>tech_type</th>\n",
       "      <th>specialty</th>\n",
       "      <th>review_type</th>\n",
       "    </tr>\n",
       "  </thead>\n",
       "  <tbody>\n",
       "    <tr>\n",
       "      <th>262</th>\n",
       "      <td>1589790</td>\n",
       "      <td>2018-05-14</td>\n",
       "      <td>0.0</td>\n",
       "      <td>3</td>\n",
       "      <td>1</td>\n",
       "      <td>1</td>\n",
       "      <td>2017-09-03</td>\n",
       "      <td>2018-03-02</td>\n",
       "      <td>2</td>\n",
       "      <td>Santa Monica</td>\n",
       "      <td>CA</td>\n",
       "      <td>90404</td>\n",
       "      <td>ADVAN</td>\n",
       "      <td>Obstetrician and Gynecologist</td>\n",
       "      <td>2.0</td>\n",
       "    </tr>\n",
       "    <tr>\n",
       "      <th>263</th>\n",
       "      <td>1589789</td>\n",
       "      <td>2018-05-14</td>\n",
       "      <td>0.0</td>\n",
       "      <td>3</td>\n",
       "      <td>1</td>\n",
       "      <td>1</td>\n",
       "      <td>2017-09-03</td>\n",
       "      <td>2018-03-02</td>\n",
       "      <td>2</td>\n",
       "      <td>Santa Monica</td>\n",
       "      <td>CA</td>\n",
       "      <td>90404</td>\n",
       "      <td>ADVAN</td>\n",
       "      <td>Obstetrician and Gynecologist</td>\n",
       "      <td>2.0</td>\n",
       "    </tr>\n",
       "    <tr>\n",
       "      <th>264</th>\n",
       "      <td>1719975</td>\n",
       "      <td>2018-05-15</td>\n",
       "      <td>0.0</td>\n",
       "      <td>3</td>\n",
       "      <td>1</td>\n",
       "      <td>1</td>\n",
       "      <td>2017-09-03</td>\n",
       "      <td>2018-03-02</td>\n",
       "      <td>2</td>\n",
       "      <td>Santa Monica</td>\n",
       "      <td>CA</td>\n",
       "      <td>90404</td>\n",
       "      <td>ADVAN</td>\n",
       "      <td>Obstetrician and Gynecologist</td>\n",
       "      <td>2.0</td>\n",
       "    </tr>\n",
       "    <tr>\n",
       "      <th>265</th>\n",
       "      <td>1719976</td>\n",
       "      <td>2018-05-15</td>\n",
       "      <td>0.0</td>\n",
       "      <td>3</td>\n",
       "      <td>1</td>\n",
       "      <td>1</td>\n",
       "      <td>2017-09-03</td>\n",
       "      <td>2018-03-02</td>\n",
       "      <td>2</td>\n",
       "      <td>Santa Monica</td>\n",
       "      <td>CA</td>\n",
       "      <td>90404</td>\n",
       "      <td>ADVAN</td>\n",
       "      <td>Obstetrician and Gynecologist</td>\n",
       "      <td>2.0</td>\n",
       "    </tr>\n",
       "    <tr>\n",
       "      <th>266</th>\n",
       "      <td>1724256</td>\n",
       "      <td>2018-05-16</td>\n",
       "      <td>0.0</td>\n",
       "      <td>3</td>\n",
       "      <td>1</td>\n",
       "      <td>1</td>\n",
       "      <td>2017-09-03</td>\n",
       "      <td>2018-03-02</td>\n",
       "      <td>2</td>\n",
       "      <td>Santa Monica</td>\n",
       "      <td>CA</td>\n",
       "      <td>90404</td>\n",
       "      <td>ADVAN</td>\n",
       "      <td>Obstetrician and Gynecologist</td>\n",
       "      <td>2.0</td>\n",
       "    </tr>\n",
       "    <tr>\n",
       "      <th>...</th>\n",
       "      <td>...</td>\n",
       "      <td>...</td>\n",
       "      <td>...</td>\n",
       "      <td>...</td>\n",
       "      <td>...</td>\n",
       "      <td>...</td>\n",
       "      <td>...</td>\n",
       "      <td>...</td>\n",
       "      <td>...</td>\n",
       "      <td>...</td>\n",
       "      <td>...</td>\n",
       "      <td>...</td>\n",
       "      <td>...</td>\n",
       "      <td>...</td>\n",
       "      <td>...</td>\n",
       "    </tr>\n",
       "    <tr>\n",
       "      <th>409859</th>\n",
       "      <td>1701098</td>\n",
       "      <td>2018-12-12</td>\n",
       "      <td>0.0</td>\n",
       "      <td>15780</td>\n",
       "      <td>7</td>\n",
       "      <td>7</td>\n",
       "      <td>2018-06-29</td>\n",
       "      <td>2018-12-26</td>\n",
       "      <td>2</td>\n",
       "      <td>Chesterfield</td>\n",
       "      <td>MI</td>\n",
       "      <td>48047</td>\n",
       "      <td>GREEN</td>\n",
       "      <td>Podiatrist</td>\n",
       "      <td>0.0</td>\n",
       "    </tr>\n",
       "    <tr>\n",
       "      <th>410016</th>\n",
       "      <td>1701058</td>\n",
       "      <td>2018-11-14</td>\n",
       "      <td>0.0</td>\n",
       "      <td>15783</td>\n",
       "      <td>2</td>\n",
       "      <td>1</td>\n",
       "      <td>2018-06-14</td>\n",
       "      <td>2018-12-11</td>\n",
       "      <td>2</td>\n",
       "      <td>Norwell</td>\n",
       "      <td>MA</td>\n",
       "      <td>2061</td>\n",
       "      <td>SIKKA</td>\n",
       "      <td>General Dentist</td>\n",
       "      <td>0.0</td>\n",
       "    </tr>\n",
       "    <tr>\n",
       "      <th>410017</th>\n",
       "      <td>1721564</td>\n",
       "      <td>2018-12-14</td>\n",
       "      <td>0.0</td>\n",
       "      <td>15783</td>\n",
       "      <td>2</td>\n",
       "      <td>1</td>\n",
       "      <td>2018-06-14</td>\n",
       "      <td>2018-12-11</td>\n",
       "      <td>2</td>\n",
       "      <td>Norwell</td>\n",
       "      <td>MA</td>\n",
       "      <td>2061</td>\n",
       "      <td>SIKKA</td>\n",
       "      <td>General Dentist</td>\n",
       "      <td>2.0</td>\n",
       "    </tr>\n",
       "    <tr>\n",
       "      <th>410020</th>\n",
       "      <td>1725027</td>\n",
       "      <td>2018-12-16</td>\n",
       "      <td>0.0</td>\n",
       "      <td>15783</td>\n",
       "      <td>2</td>\n",
       "      <td>1</td>\n",
       "      <td>2018-06-14</td>\n",
       "      <td>2018-12-11</td>\n",
       "      <td>2</td>\n",
       "      <td>Norwell</td>\n",
       "      <td>MA</td>\n",
       "      <td>2061</td>\n",
       "      <td>SIKKA</td>\n",
       "      <td>General Dentist</td>\n",
       "      <td>2.0</td>\n",
       "    </tr>\n",
       "    <tr>\n",
       "      <th>410084</th>\n",
       "      <td>1701525</td>\n",
       "      <td>2018-07-14</td>\n",
       "      <td>0.0</td>\n",
       "      <td>15792</td>\n",
       "      <td>3</td>\n",
       "      <td>1</td>\n",
       "      <td>2018-07-13</td>\n",
       "      <td>2019-01-09</td>\n",
       "      <td>1</td>\n",
       "      <td>Billings</td>\n",
       "      <td>MT</td>\n",
       "      <td>59102</td>\n",
       "      <td>POWER</td>\n",
       "      <td>Holistic Medicine Specialist</td>\n",
       "      <td>0.0</td>\n",
       "    </tr>\n",
       "  </tbody>\n",
       "</table>\n",
       "<p>99188 rows × 15 columns</p>\n",
       "</div>"
      ],
      "text/plain": [
       "        review_id review_date  rating  practice_id  n_providers  \\\n",
       "262       1589790  2018-05-14     0.0            3            1   \n",
       "263       1589789  2018-05-14     0.0            3            1   \n",
       "264       1719975  2018-05-15     0.0            3            1   \n",
       "265       1719976  2018-05-15     0.0            3            1   \n",
       "266       1724256  2018-05-16     0.0            3            1   \n",
       "...           ...         ...     ...          ...          ...   \n",
       "409859    1701098  2018-12-12     0.0        15780            7   \n",
       "410016    1701058  2018-11-14     0.0        15783            2   \n",
       "410017    1721564  2018-12-14     0.0        15783            2   \n",
       "410020    1725027  2018-12-16     0.0        15783            2   \n",
       "410084    1701525  2018-07-14     0.0        15792            3   \n",
       "\n",
       "        n_providers_surveys short_start_date long_start_date  version  \\\n",
       "262                       1       2017-09-03      2018-03-02        2   \n",
       "263                       1       2017-09-03      2018-03-02        2   \n",
       "264                       1       2017-09-03      2018-03-02        2   \n",
       "265                       1       2017-09-03      2018-03-02        2   \n",
       "266                       1       2017-09-03      2018-03-02        2   \n",
       "...                     ...              ...             ...      ...   \n",
       "409859                    7       2018-06-29      2018-12-26        2   \n",
       "410016                    1       2018-06-14      2018-12-11        2   \n",
       "410017                    1       2018-06-14      2018-12-11        2   \n",
       "410020                    1       2018-06-14      2018-12-11        2   \n",
       "410084                    1       2018-07-13      2019-01-09        1   \n",
       "\n",
       "                city state    zip tech_type                      specialty  \\\n",
       "262     Santa Monica    CA  90404     ADVAN  Obstetrician and Gynecologist   \n",
       "263     Santa Monica    CA  90404     ADVAN  Obstetrician and Gynecologist   \n",
       "264     Santa Monica    CA  90404     ADVAN  Obstetrician and Gynecologist   \n",
       "265     Santa Monica    CA  90404     ADVAN  Obstetrician and Gynecologist   \n",
       "266     Santa Monica    CA  90404     ADVAN  Obstetrician and Gynecologist   \n",
       "...              ...   ...    ...       ...                            ...   \n",
       "409859  Chesterfield    MI  48047     GREEN                     Podiatrist   \n",
       "410016       Norwell    MA   2061     SIKKA                General Dentist   \n",
       "410017       Norwell    MA   2061     SIKKA                General Dentist   \n",
       "410020       Norwell    MA   2061     SIKKA                General Dentist   \n",
       "410084      Billings    MT  59102     POWER   Holistic Medicine Specialist   \n",
       "\n",
       "        review_type  \n",
       "262             2.0  \n",
       "263             2.0  \n",
       "264             2.0  \n",
       "265             2.0  \n",
       "266             2.0  \n",
       "...             ...  \n",
       "409859          0.0  \n",
       "410016          0.0  \n",
       "410017          2.0  \n",
       "410020          2.0  \n",
       "410084          0.0  \n",
       "\n",
       "[99188 rows x 15 columns]"
      ]
     },
     "execution_count": 12,
     "metadata": {},
     "output_type": "execute_result"
    }
   ],
   "source": [
    "reviews[reviews['rating'] == 0]"
   ]
  },
  {
   "cell_type": "markdown",
   "metadata": {},
   "source": [
    "There are 99188 entries without ratings."
   ]
  },
  {
   "cell_type": "code",
   "execution_count": 13,
   "metadata": {
    "scrolled": false
   },
   "outputs": [
    {
     "data": {
      "text/html": [
       "<div>\n",
       "<style scoped>\n",
       "    .dataframe tbody tr th:only-of-type {\n",
       "        vertical-align: middle;\n",
       "    }\n",
       "\n",
       "    .dataframe tbody tr th {\n",
       "        vertical-align: top;\n",
       "    }\n",
       "\n",
       "    .dataframe thead th {\n",
       "        text-align: right;\n",
       "    }\n",
       "</style>\n",
       "<table border=\"1\" class=\"dataframe\">\n",
       "  <thead>\n",
       "    <tr style=\"text-align: right;\">\n",
       "      <th></th>\n",
       "      <th>rating</th>\n",
       "    </tr>\n",
       "  </thead>\n",
       "  <tbody>\n",
       "    <tr>\n",
       "      <th>count</th>\n",
       "      <td>3807.000000</td>\n",
       "    </tr>\n",
       "    <tr>\n",
       "      <th>mean</th>\n",
       "      <td>81.750722</td>\n",
       "    </tr>\n",
       "    <tr>\n",
       "      <th>std</th>\n",
       "      <td>256.214132</td>\n",
       "    </tr>\n",
       "    <tr>\n",
       "      <th>min</th>\n",
       "      <td>1.000000</td>\n",
       "    </tr>\n",
       "    <tr>\n",
       "      <th>25%</th>\n",
       "      <td>14.000000</td>\n",
       "    </tr>\n",
       "    <tr>\n",
       "      <th>50%</th>\n",
       "      <td>34.000000</td>\n",
       "    </tr>\n",
       "    <tr>\n",
       "      <th>75%</th>\n",
       "      <td>73.000000</td>\n",
       "    </tr>\n",
       "    <tr>\n",
       "      <th>max</th>\n",
       "      <td>8175.000000</td>\n",
       "    </tr>\n",
       "  </tbody>\n",
       "</table>\n",
       "</div>"
      ],
      "text/plain": [
       "            rating\n",
       "count  3807.000000\n",
       "mean     81.750722\n",
       "std     256.214132\n",
       "min       1.000000\n",
       "25%      14.000000\n",
       "50%      34.000000\n",
       "75%      73.000000\n",
       "max    8175.000000"
      ]
     },
     "execution_count": 13,
     "metadata": {},
     "output_type": "execute_result"
    }
   ],
   "source": [
    "non_zero = reviews[reviews['rating'] != 0]\n",
    "non_zero[['rating','practice_id']].groupby('practice_id').count().describe()"
   ]
  },
  {
   "cell_type": "markdown",
   "metadata": {},
   "source": [
    "The average practice has 81.75 reviews but the median count is 34 reviews. The 25% quartile value of 14 will be used as the cutoff to apply the practice average to the 0 values. For those less than 14, 0 rating values will be set to NaN."
   ]
  },
  {
   "cell_type": "code",
   "execution_count": 14,
   "metadata": {},
   "outputs": [
    {
     "ename": "NameError",
     "evalue": "name 'practice_rating_cnt' is not defined",
     "output_type": "error",
     "traceback": [
      "\u001b[0;31m---------------------------------------------------------------------------\u001b[0m",
      "\u001b[0;31mNameError\u001b[0m                                 Traceback (most recent call last)",
      "\u001b[0;32m<ipython-input-14-b73413db4a7b>\u001b[0m in \u001b[0;36m<module>\u001b[0;34m\u001b[0m\n\u001b[0;32m----> 1\u001b[0;31m \u001b[0mgreater_equal_14\u001b[0m \u001b[0;34m=\u001b[0m \u001b[0mpractice_rating_cnt\u001b[0m\u001b[0;34m[\u001b[0m\u001b[0mpractice_rating_cnt\u001b[0m\u001b[0;34m[\u001b[0m\u001b[0;34m'rating_count'\u001b[0m\u001b[0;34m]\u001b[0m  \u001b[0;34m>=\u001b[0m \u001b[0;36m14\u001b[0m\u001b[0;34m]\u001b[0m\u001b[0;34m[\u001b[0m\u001b[0;34m'practice_id_'\u001b[0m\u001b[0;34m]\u001b[0m\u001b[0;34m.\u001b[0m\u001b[0munique\u001b[0m\u001b[0;34m(\u001b[0m\u001b[0;34m)\u001b[0m\u001b[0;34m\u001b[0m\u001b[0;34m\u001b[0m\u001b[0m\n\u001b[0m",
      "\u001b[0;31mNameError\u001b[0m: name 'practice_rating_cnt' is not defined"
     ]
    }
   ],
   "source": [
    "greater_equal_14 = practice_rating_cnt[practice_rating_cnt['rating_count']  >= 14]['practice_id_'].unique()\n"
   ]
  },
  {
   "cell_type": "code",
   "execution_count": null,
   "metadata": {
    "scrolled": true
   },
   "outputs": [],
   "source": [
    "# Set 0 Rating to Practice Average or NaN\n",
    "for i in range(len(reviews)):\n",
    "    if reviews['rating'][i] == 0 and reviews['practice_id'][i] in greater_equal_14:\n",
    "        reviews['rating'][i] = practice_rating_cnt[practice_rating_cnt['practice_id_'] == reviews['practice_id'][i]]['rating_mean']\n",
    "    elif reviews['rating'][i] == 0:\n",
    "        reviews['rating'][i] = np.nan\n",
    "    \n",
    "    "
   ]
  },
  {
   "cell_type": "code",
   "execution_count": null,
   "metadata": {},
   "outputs": [],
   "source": [
    "# Perform an assessment of how much missing data there is in each column of the\n",
    "# dataset.\n",
    "\n",
    "# Shape returns the max number of rows; count returns number of rows with values\n",
    "reviews.shape[0] - reviews.count()"
   ]
  },
  {
   "cell_type": "markdown",
   "metadata": {},
   "source": [
    "For the questions, missing tech type data is unimportant. Additionally, missing speciality data can still be used for the non-speciality questions."
   ]
  },
  {
   "cell_type": "code",
   "execution_count": null,
   "metadata": {},
   "outputs": [],
   "source": [
    "# How much data is missing in each row of the dataset?\n",
    "arr = reviews.shape[1]-reviews.count(axis=1)\n",
    "arr.describe()"
   ]
  },
  {
   "cell_type": "code",
   "execution_count": null,
   "metadata": {},
   "outputs": [],
   "source": [
    "reviews = reviews[pd.notnull(reviews['rating'])]"
   ]
  },
  {
   "cell_type": "code",
   "execution_count": null,
   "metadata": {},
   "outputs": [],
   "source": [
    "# There number of entries does not match the number of unique IDs; this will be treated as acceptable\n",
    "reviews['review_id'].nunique()"
   ]
  },
  {
   "cell_type": "code",
   "execution_count": null,
   "metadata": {
    "scrolled": true
   },
   "outputs": [],
   "source": [
    "practice_rating_cnt = reviews[reviews['rating'] != 0][['rating','practice_id']].groupby('practice_id').describe()\n",
    "practice_rating_cnt = practice_rating_cnt.reset_index()\n",
    "practice_rating_cnt.columns = ['_'.join(col).strip() for col in practice_rating_cnt.columns.values]\n",
    "practice_rating_cnt.head()\n"
   ]
  },
  {
   "cell_type": "code",
   "execution_count": null,
   "metadata": {},
   "outputs": [],
   "source": [
    "reviews.info()"
   ]
  },
  {
   "cell_type": "code",
   "execution_count": null,
   "metadata": {
    "scrolled": true
   },
   "outputs": [],
   "source": [
    "reviews.describe()"
   ]
  },
  {
   "cell_type": "markdown",
   "metadata": {},
   "source": [
    "### Question 1\n",
    "#### Do the “long” surveys result in significantly more reviews than the “short” surveys? Which “long” survey has a greater impact (v1 or v2)?"
   ]
  },
  {
   "cell_type": "markdown",
   "metadata": {},
   "source": [
    "You can not technically say if long surveys result in more reviews than short surveys because this is a sample dataset and it is unknown if the sample dataset was constructed randomly or constructed weightedly/biasedly. Yet, if we assume this is a population dataset or an equally representative, random, statistically significant dataset, then the long format had the most reviews (329,755; 80.35%) and within the long format v2 had the most reviews (45.08%) (including reviews with 0 ratings). If you only look at the data after some of the 0 ratings have been dropped, then the percentages are: XXXXXXX\n",
    "\n",
    "It is important to note that these initial numbers are not causation - they do not prove that having a long format does not cause a user to review more."
   ]
  },
  {
   "cell_type": "code",
   "execution_count": null,
   "metadata": {
    "scrolled": true
   },
   "outputs": [],
   "source": [
    "backup.groupby('review_type')['rating'].count()"
   ]
  },
  {
   "cell_type": "code",
   "execution_count": null,
   "metadata": {
    "scrolled": true
   },
   "outputs": [],
   "source": [
    "reviews.groupby('review_type')['rating'].count()"
   ]
  },
  {
   "cell_type": "code",
   "execution_count": null,
   "metadata": {},
   "outputs": [],
   "source": [
    "reviews.groupby(['practice_id','review_type'])['rating'].describe().head(10)"
   ]
  },
  {
   "cell_type": "markdown",
   "metadata": {},
   "source": [
    "Glancing through the above data it looks like there are more survey responses for 1 and 2 than there was for 0 (short); however, this still does not prove a causation relationship. You should also restrict the time durations to be equal to ensure the long survey numbers are not inflated. Thus, it would be 6 months of both short and long."
   ]
  },
  {
   "cell_type": "markdown",
   "metadata": {},
   "source": [
    "### Question 2\n",
    "#### What kinds of practices do best with “long” survey v1? Would you recommend “long” survey v2 to any specific kinds of practices?"
   ]
  },
  {
   "cell_type": "markdown",
   "metadata": {},
   "source": [
    "Since there are large standard deviations relative to the mean for the ratings, the standard deviation will not be used when determining the recommendation of v1 or v2.\n",
    "\n",
    "3 specialities had the highest mean while on the short survey. 11 did best on Long v1 and 46 did best on Long v2. The specific specialities are listed below."
   ]
  },
  {
   "cell_type": "code",
   "execution_count": null,
   "metadata": {},
   "outputs": [],
   "source": [
    "q2 = reviews.groupby(['specialty','review_type'])['rating'].describe()\n",
    "q2 = q2.reset_index()\n",
    "q2.columns = [''.join(col).strip() for col in q2.columns.values]\n"
   ]
  },
  {
   "cell_type": "code",
   "execution_count": null,
   "metadata": {
    "scrolled": true
   },
   "outputs": [],
   "source": [
    "q2.head()"
   ]
  },
  {
   "cell_type": "code",
   "execution_count": null,
   "metadata": {},
   "outputs": [],
   "source": [
    "v1_btr = []\n",
    "v2_btr = []\n",
    "s_btr = []\n",
    "for i in range(len(q2)):\n",
    "    if q2[(q2['specialty'] == q2['specialty'][i]) & (q2['review_type'] != q2['review_type'][i])]['review_type'].nunique() == 1:\n",
    "        if float(q2['mean'][i]) > float(q2[(q2['specialty'] == q2['specialty'][i]) & (q2['review_type'] != q2['review_type'][i])]['mean']):\n",
    "                if q2['review_type'][i] == 0:\n",
    "                    s_btr.append(q2['specialty'][i])\n",
    "                elif q2['review_type'][i] == 1.0:\n",
    "                    v1_btr.append(q2['specialty'][i])\n",
    "                elif q2['review_type'][i] == 2.0:\n",
    "                    v2_btr.append(q2['specialty'][i])\n",
    "    elif q2['review_type'][i] != 0:\n",
    "        if float(q2['mean'][i]) > float(q2[(q2['specialty'] == q2['specialty'][i]) & (q2['review_type'] != q2['review_type'][i]) & (q2['review_type'] != 0)]['mean']):\n",
    "            if q2['review_type'][i] == 1.0:\n",
    "                v1_btr.append(q2['specialty'][i])\n",
    "            elif q2['review_type'][i] == 2.0:\n",
    "                v2_btr.append(q2['specialty'][i])\n",
    "                \n",
    "        "
   ]
  },
  {
   "cell_type": "code",
   "execution_count": null,
   "metadata": {},
   "outputs": [],
   "source": [
    "s_best_for_specialty = pd.DataFrame(np.column_stack([s_btr]), columns=['Short'])\n",
    "s_best_for_specialty"
   ]
  },
  {
   "cell_type": "code",
   "execution_count": null,
   "metadata": {},
   "outputs": [],
   "source": [
    "v1_best_for_specialty = pd.DataFrame(np.column_stack([v1_btr]), columns=['Long v1'])\n",
    "v1_best_for_specialty"
   ]
  },
  {
   "cell_type": "code",
   "execution_count": null,
   "metadata": {},
   "outputs": [],
   "source": [
    "v2_best_for_specialty = pd.DataFrame(np.column_stack([v2_btr]), columns=['Long v2'])\n",
    "v2_best_for_specialty\n",
    "        "
   ]
  },
  {
   "cell_type": "markdown",
   "metadata": {},
   "source": [
    "### Question 3\n",
    "#### Do ratings change significantly with either “long” survey? How would you predict which practices will have success, defined as at least a 0.3 star increase in their “long” survey average monthly rating vs their “short” survey average monthly rating?"
   ]
  },
  {
   "cell_type": "markdown",
   "metadata": {},
   "source": [
    "No rating changes statistically significantly for either long survey - the standard deviations are large respective to the values of the ratings. "
   ]
  },
  {
   "cell_type": "code",
   "execution_count": null,
   "metadata": {},
   "outputs": [],
   "source": [
    "q3 = reviews.groupby(['practice_id','review_type'])['rating'].describe()\n",
    "q3 = q3.reset_index()\n",
    "q3.columns = [''.join(col).strip() for col in q3.columns.values]\n"
   ]
  },
  {
   "cell_type": "code",
   "execution_count": null,
   "metadata": {},
   "outputs": [],
   "source": [
    "q3['practice_id'].count(2)"
   ]
  },
  {
   "cell_type": "code",
   "execution_count": null,
   "metadata": {
    "scrolled": true
   },
   "outputs": [],
   "source": [
    "for i in range(len(q3))\n",
    "    if q3['practice_id']"
   ]
  },
  {
   "cell_type": "code",
   "execution_count": null,
   "metadata": {},
   "outputs": [],
   "source": [
    "i"
   ]
  },
  {
   "cell_type": "code",
   "execution_count": null,
   "metadata": {},
   "outputs": [],
   "source": [
    "\n",
    "float(q3[(q3['practice_id'] == q3['practice_id'][i]) & (q3['review_type'] == 0)]['mean'])"
   ]
  },
  {
   "cell_type": "code",
   "execution_count": null,
   "metadata": {},
   "outputs": [],
   "source": [
    "v1_3 = []\n",
    "v2_3 = []\n",
    "\n",
    "for i in range(len(q3)):\n",
    "    if q3['review_type'][i] != 0:\n",
    "        if float(q3['mean'][i]) > (0.3 + float(q3[(q3['practice_id'] == q3['practice_id'][i]) & (q3['review_type'] == 0)]['mean'])):\n",
    "            if q3['review_type'][i] == 1.0:\n",
    "                v1_btr.append(i)\n",
    "            elif q3['review_type'][i] == 2.0:\n",
    "                v2_btr.append(i)"
   ]
  },
  {
   "cell_type": "code",
   "execution_count": null,
   "metadata": {},
   "outputs": [],
   "source": [
    "bar = reviews[]\n",
    "bar = reviews.groupby(['specialty','review_type']).describe()\n",
    "\n",
    "# Flattening Hierarchical Index\n",
    "bar = bar.reset_index()\n",
    "bar.columns = ['_'.join(col).strip() for col in stacked_bar.columns.values]\n",
    "bar = stacked_bar.drop(stacked_bar.columns[[0]], axis=1)\n",
    "\n",
    "\n",
    "bar"
   ]
  },
  {
   "cell_type": "markdown",
   "metadata": {},
   "source": [
    "There are differences between people who switched and those who did not switch having a higher or lower mean retention period depending on product. In other words, for example, switchers to product X had lower retention periods than non-switchers and switchers to product Y had higher retention periods than non-switches."
   ]
  },
  {
   "cell_type": "code",
   "execution_count": null,
   "metadata": {
    "scrolled": true
   },
   "outputs": [],
   "source": [
    "# group by product first then switched or not\n",
    "stacked_bar = small[['viewable_product_id','to_viewable_product_id','switched','max_date_diff']]\n",
    "stacked_bar = stacked_bar.dropna(subset=['max_date_diff'])\n",
    "stacked_bar['to_viewable_product_id'] = stacked_bar['to_viewable_product_id'].fillna(0)\n",
    "stacked_bar = stacked_bar.groupby(['viewable_product_id','switched','to_viewable_product_id']).describe()\n",
    "stacked_bar = stacked_bar.reset_index()\n",
    "\n",
    "# Irrelevant Subscription Ends\n",
    "sub_end = []\n",
    "for i in stacked_bar[(stacked_bar['to_viewable_product_id'] == 0) & (stacked_bar['switched'] == 1)].index:\n",
    "    sub_end.append(i)\n",
    "stacked_bar = stacked_bar.drop(stacked_bar.index[sub_end])\n",
    "\n",
    "# Flattening Hierarchical Index\n",
    "stacked_bar = stacked_bar.reset_index()\n",
    "stacked_bar.columns = ['_'.join(col).strip() for col in stacked_bar.columns.values]\n",
    "stacked_bar = stacked_bar.drop(stacked_bar.columns[[0]], axis=1)\n",
    "\n",
    "# Exporting Data\n",
    "# stacked_bar.to_csv('stacked_bar.csv')\n"
   ]
  },
  {
   "cell_type": "code",
   "execution_count": null,
   "metadata": {},
   "outputs": [],
   "source": [
    "pairings_higher_retention = []\n",
    "pairings_lower_retention = []\n",
    "for i in range(len(stacked_bar)):\n",
    "    if stacked_bar['switched_'][i] == 1:\n",
    "        # Switchers Statitistically Significant Higher\n",
    "        if stacked_bar['max_date_diff_count'][i] > 1:\n",
    "            h_pairing = ((stacked_bar['max_date_diff_mean'][i] - stacked_bar['max_date_diff_std'][i]) / np.timedelta64(1, 'D'))\n",
    "        else:\n",
    "            h_pairing = ((stacked_bar['max_date_diff_mean'][i]) / np.timedelta64(1, 'D'))\n",
    "        # Switchers Statitistically Significant Lower\n",
    "        if stacked_bar['max_date_diff_count'][i] > 1:\n",
    "            l_pairing = ((stacked_bar['max_date_diff_mean'][i] + stacked_bar['max_date_diff_std'][i]) / np.timedelta64(1, 'D'))\n",
    "        else:\n",
    "            l_pairing = ((stacked_bar['max_date_diff_mean'][i]) / np.timedelta64(1, 'D'))\n",
    "        # Switchers Statitistically Significant Higher   \n",
    "        if stacked_bar[(stacked_bar['viewable_product_id_'] == stacked_bar['viewable_product_id_'][i]) & \n",
    "                 (stacked_bar['switched_'] == 0)]['max_date_diff_count'].values > 1:\n",
    "            h_non_switchers = ((stacked_bar[(stacked_bar['viewable_product_id_'] == stacked_bar['viewable_product_id_'][i]) & \n",
    "                 (stacked_bar['switched_'] == 0)]['max_date_diff_mean'] + stacked_bar[(stacked_bar['viewable_product_id_'] == stacked_bar['viewable_product_id_'][i]) & \n",
    "                  (stacked_bar['switched_'] == 0)]['max_date_diff_std']) / np.timedelta64(1, 'D')).values\n",
    "        else: \n",
    "            h_non_switchers = ((stacked_bar[(stacked_bar['viewable_product_id_'] == stacked_bar['viewable_product_id_'][i]) & \n",
    "                 (stacked_bar['switched_'] == 0)]['max_date_diff_mean']) / np.timedelta64(1, 'D')).values\n",
    "        # Switchers Statitistically Significant Lower\n",
    "        if stacked_bar[(stacked_bar['viewable_product_id_'] == stacked_bar['viewable_product_id_'][i]) & \n",
    "                 (stacked_bar['switched_'] == 0)]['max_date_diff_count'].values > 1:\n",
    "            l_non_switchers = ((stacked_bar[(stacked_bar['viewable_product_id_'] == stacked_bar['viewable_product_id_'][i]) & \n",
    "                 (stacked_bar['switched_'] == 0)]['max_date_diff_mean'] - stacked_bar[(stacked_bar['viewable_product_id_'] == stacked_bar['viewable_product_id_'][i]) & \n",
    "                  (stacked_bar['switched_'] == 0)]['max_date_diff_std']) / np.timedelta64(1, 'D')).values\n",
    "        else: \n",
    "            l_non_switchers = ((stacked_bar[(stacked_bar['viewable_product_id_'] == stacked_bar['viewable_product_id_'][i]) & \n",
    "                 (stacked_bar['switched_'] == 0)]['max_date_diff_mean']) / np.timedelta64(1, 'D')).values\n",
    "        # Comparisons\n",
    "        if h_pairing > h_non_switchers:\n",
    "            pairings_higher_retention.append(i)\n",
    "        if l_pairing < l_non_switchers:\n",
    "            pairings_lower_retention.append(i)\n",
    "            "
   ]
  },
  {
   "cell_type": "code",
   "execution_count": null,
   "metadata": {
    "scrolled": true
   },
   "outputs": [],
   "source": [
    "stacked_bar.loc[pairings_higher_retention].reset_index()"
   ]
  },
  {
   "cell_type": "code",
   "execution_count": null,
   "metadata": {
    "scrolled": false
   },
   "outputs": [],
   "source": [
    "stacked_bar.loc[pairings_lower_retention].reset_index()"
   ]
  },
  {
   "cell_type": "markdown",
   "metadata": {},
   "source": [
    "**Summary**\n",
    "\n",
    "When viewed as solely comparing switched to non-switched, there was not a statistically significant difference between the max retention period of the two groups. However, when dividing the subscriptions into groups of what was being switched from and to, 26 from-to subscription pairings of people who switched was statistically higher than those who did not switch. Also 10 from-to subscription pairings of people who switched was statistically lower than those who did not switch. Yet, this was on limited data - many pairings only had 1 data point. Thus, these numbers might not hold up with a more sizable dataset."
   ]
  },
  {
   "cell_type": "code",
   "execution_count": null,
   "metadata": {},
   "outputs": [],
   "source": []
  },
  {
   "cell_type": "markdown",
   "metadata": {},
   "source": [
    "### Question 4\n",
    "#### Would you recommend replacing the “short” survey with either (or both) of the “long” surveys for any or all practices? Provide reasons to support your answer. If you do not have enough data to make a recommendation, what additional data would you need?"
   ]
  },
  {
   "cell_type": "markdown",
   "metadata": {},
   "source": [
    "# Additional Analysis"
   ]
  },
  {
   "cell_type": "markdown",
   "metadata": {},
   "source": [
    "This section one-hot encodes categorical variables so that these variables can be included when calculating the Spearman correlation and R value. The encodings can also be put into a future machine learning model to predict retention. One-hot encoding is breaking a catergorical variable into seperate binary variables for each category. For example, a 'housepet' column would have the options cat and dog. Instead of one column with both cat and dog, you get two columns. One labeled cat and one labeled dog with 'yes' or 'no' for the options."
   ]
  },
  {
   "cell_type": "code",
   "execution_count": null,
   "metadata": {},
   "outputs": [],
   "source": [
    "# One Hot Encoding to Convert Categorical to Numerical Indicator Variables\n",
    "correl = small\n",
    "drop_ar = ['starter_set_count', 'other_set_count', 'handle_count', 'lipbalm_count',\n",
    "        'razorstand_count','travel_kit_count','abbrev','id',\n",
    "           'min_start','max_end','created_at','removed_at']\n",
    "correl = correl.drop(drop_ar, axis=1)\n",
    "created = pd.get_dummies(correl['created_by_client_type'])\n",
    "correl = correl.drop('created_by_client_type',axis = 1)\n",
    "correl = correl.join(created)\n",
    "correl.rename(columns={'admin':'c_admin'}, inplace=True)\n",
    "correl.rename(columns={'ios':'c_ios'}, inplace=True)\n",
    "correl.rename(columns={'system':'c_system'}, inplace=True)\n",
    "correl.rename(columns={'www':'c_www'}, inplace=True)\n",
    "\n",
    "removed = pd.get_dummies(correl['removed_by_client_type'])\n",
    "correl = correl.drop('removed_by_client_type',axis = 1)\n",
    "correl = correl.join(removed)\n",
    "correl.rename(columns={'admin':'r_admin'}, inplace=True)\n",
    "correl.rename(columns={'ios':'r_ios'}, inplace=True)\n",
    "correl.rename(columns={'system':'r_system'}, inplace=True)\n",
    "correl.rename(columns={'www':'r_www'}, inplace=True)"
   ]
  },
  {
   "cell_type": "code",
   "execution_count": null,
   "metadata": {
    "scrolled": true
   },
   "outputs": [],
   "source": [
    "# Day Retention\n",
    "correl['subs_date_diff'] = (correl['subs_date_diff'])  / np.timedelta64(1,'D')\n",
    "correl['max_date_diff'] = (correl['max_date_diff'])  / np.timedelta64(1,'D')"
   ]
  },
  {
   "cell_type": "code",
   "execution_count": null,
   "metadata": {
    "scrolled": true
   },
   "outputs": [],
   "source": [
    "# Spearman Test and P-Value Table\n",
    "rho, pval = stats.spearmanr(correl, nan_policy='omit')\n",
    "\n",
    "pvals = pd.DataFrame(pval, columns=['viewable_product_id','quantity','user_id','price','blade_count','shave_gel_count','shave_cream_count','face_wash_count','aftershave_count','face_lotion_count','subs_date_diff','switched','to_viewable_product_id','max_date_diff','c_admin','c_ios','c_system','c_www','r_admin','r_ios','r_www'])\n",
    "pvals = pvals.rename(index={0: 'viewable_product_id',1: 'quantity',2:'user_id',3:'price',4:'blade_count',5:'shave_gel_count',6:'shave_cream_count',7:'face_wash_count',8:'aftershave_count',9:'face_lotion_count',10:'subs_date_diff',11:'switched',12:'to_viewable_product_id',13:'max_date_diff',14:'c_admin',15:'c_ios',16:'c_system',17:'c_www',18:'r_admin',19:'r_ios',20:'r_www'})\n",
    "round(pvals, 2)\n"
   ]
  },
  {
   "cell_type": "markdown",
   "metadata": {},
   "source": [
    "To be statistically significantly correlated, the p-value must be less than or equal to 0.05. In the below graph, bright yellow denotes items that meet the p-value threshold."
   ]
  },
  {
   "cell_type": "code",
   "execution_count": null,
   "metadata": {},
   "outputs": [],
   "source": [
    "# Graphing P-Values\n",
    "mask = np.zeros_like(pvals)\n",
    "mask[np.triu_indices_from(mask)] = True\n",
    "with sns.axes_style(\"white\"):\n",
    "    p2 = sns.heatmap(pvals, mask=mask, square=True, cmap = \"YlGn\")"
   ]
  },
  {
   "cell_type": "code",
   "execution_count": null,
   "metadata": {},
   "outputs": [],
   "source": [
    "# R Table\n",
    "rhos = pd.DataFrame(rho, columns=['viewable_product_id','quantity','user_id','price','blade_count','shave_gel_count','shave_cream_count','face_wash_count','aftershave_count','face_lotion_count','subs_date_diff','switched','to_viewable_product_id','max_date_diff','c_admin','c_ios','c_system','c_www','r_admin','r_ios','r_www'])\n",
    "rhos = rhos.rename(index={0: 'viewable_product_id',1: 'quantity',2:'user_id',3:'price',4:'blade_count',5:'shave_gel_count',6:'shave_cream_count',7:'face_wash_count',8:'aftershave_count',9:'face_lotion_count',10:'subs_date_diff',11:'switched',12:'to_viewable_product_id',13:'max_date_diff',14:'c_admin',15:'c_ios',16:'c_system',17:'c_www',18:'r_admin',19:'r_ios',20:'r_www'})\n",
    "round(rhos, 3)"
   ]
  },
  {
   "cell_type": "code",
   "execution_count": null,
   "metadata": {},
   "outputs": [],
   "source": [
    "# R Plot\n",
    "sns.heatmap(rhos, square=True)\n",
    "plt.yticks(rotation=0)\n",
    "plt.xticks(rotation=90)"
   ]
  },
  {
   "cell_type": "code",
   "execution_count": null,
   "metadata": {},
   "outputs": [],
   "source": [
    "# Finds Statistically Significant and Strong Correlations\n",
    "items = ['viewable_product_id','quantity','price','blade_count','shave_gel_count','shave_cream_count','face_wash_count','aftershave_count','face_lotion_count','subs_date_diff','switched','to_viewable_product_id','max_date_diff','c_admin','c_ios','c_system','c_www','r_admin','r_ios','r_www']\n",
    "arr = []\n",
    "\n",
    "for i in items:\n",
    "    for j in items:\n",
    "        if pvals.loc[i,j] <= 0.05 and (rhos.loc[i,j] > 0.5 or rhos.loc[i,j] < -0.5) and i != j and [j,i, pvals.loc[j,i], rhos.loc[j,i]] not in arr:\n",
    "            arr.append([i,j, pvals.loc[i,j], rhos.loc[i,j]])\n",
    "\n",
    "arr = pd.DataFrame(arr,columns=['1','2','P-Value','R'])\n",
    "arr.sort_values('R', ascending = True)"
   ]
  },
  {
   "cell_type": "markdown",
   "metadata": {},
   "source": [
    "#### Summary\n",
    "\n"
   ]
  },
  {
   "cell_type": "markdown",
   "metadata": {},
   "source": [
    "Having a statistically significant p-value is only half the picture. After having a P-value of less than or equal to 0.05, you also want to have a high R-value which tells that there is a strong correlation. The tests show that\n",
    "c_admin-c_www, price-shave_gel_count, viewable_product_id-blade_count, price-blade_count, and subs_date_diff-max_date_diff all are statistically significant and strongly correlated. Unfortunately this info is not revolutionary, as each of these variables are based on the other. The price is dependent on shave_gel_count and blade_count, blade_count is dependent on viewable_product_id, and max_date_diff is dependent on subs_date_diff."
   ]
  },
  {
   "cell_type": "markdown",
   "metadata": {},
   "source": [
    "# Next Steps\n",
    "\n",
    "I would re-run the above tests with more data so you can reach a significant, sizable dataset for each product. Once those have been re-run, if the data is still similar, I would then target the switchers who switched to a product that was tied to lower average retention periods. The goal would be to incentivize those at-risk users to subscribe to a product that has an average longer retention period.  \n",
    "\n",
    "- Verify if no stars given is permissible in their system and is interpretted negatively or is viewed a null\n",
    "    - In other words, is 1 star better than 0 stars? If 0 stars is better then that means 0 should be ignored and treated as null values\n",
    "    - In this solution, 0 was treated as null and therefore, upon meeting certain conditions, was replaced with the practice average\n",
    "\n",
    "- Verify if review_id is unique for a provider or unique throughout the entire review system\n",
    "    - In this solution, review id was treated as unique to the provider; which means that you could have duplicate review ids"
   ]
  },
  {
   "cell_type": "markdown",
   "metadata": {},
   "source": [
    "## Additional Ideas for Investigation\n",
    "\n",
    "1) Investigate how the models change implementing a 0 rating value fill in process that fills in with mean of practice then if not enough surveys in practice, it goes to the mean in speciality, and if not enough in the speciality then the row gets dropped from model inclusion\n",
    "\n",
    "2) Build a regression model for retention days\n",
    "\n",
    "3) What other datapoints can we collect about users that could provide insights into their shopping behavior?\n",
    "    -Type of Credit Card they use (American Express, Discover, Visa, MasterCard...)\n",
    "    -Computer or Phone they are purchasing from\n",
    "    -City, State, and Country purchases are originating from"
   ]
  },
  {
   "cell_type": "markdown",
   "metadata": {},
   "source": [
    "**Note:** No non-ended subscriptions were used because the data is inconclusive. For example, the subscription could be 100 days or 1 day past the data period provided. However, in building a machine learning model, it is common to insert the mean, median, or mode in the null fields."
   ]
  }
 ],
 "metadata": {
  "kernelspec": {
   "display_name": "Python 3",
   "language": "python",
   "name": "python3"
  },
  "language_info": {
   "codemirror_mode": {
    "name": "ipython",
    "version": 3
   },
   "file_extension": ".py",
   "mimetype": "text/x-python",
   "name": "python",
   "nbconvert_exporter": "python",
   "pygments_lexer": "ipython3",
   "version": "3.7.6"
  }
 },
 "nbformat": 4,
 "nbformat_minor": 2
}
